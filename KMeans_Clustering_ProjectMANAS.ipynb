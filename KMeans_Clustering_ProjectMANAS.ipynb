{
 "cells": [
  {
   "cell_type": "code",
   "execution_count": 21,
   "metadata": {},
   "outputs": [],
   "source": [
    "import pandas as pd\n",
    "import numpy as np\n",
    "import matplotlib.pyplot as plt\n",
    "from sklearn.decomposition import PCA\n",
    "from sklearn.preprocessing import StandardScaler"
   ]
  },
  {
   "cell_type": "code",
   "execution_count": 22,
   "metadata": {},
   "outputs": [
    {
     "data": {
      "text/html": [
       "<div>\n",
       "<style scoped>\n",
       "    .dataframe tbody tr th:only-of-type {\n",
       "        vertical-align: middle;\n",
       "    }\n",
       "\n",
       "    .dataframe tbody tr th {\n",
       "        vertical-align: top;\n",
       "    }\n",
       "\n",
       "    .dataframe thead th {\n",
       "        text-align: right;\n",
       "    }\n",
       "</style>\n",
       "<table border=\"1\" class=\"dataframe\">\n",
       "  <thead>\n",
       "    <tr style=\"text-align: right;\">\n",
       "      <th></th>\n",
       "      <th>Date</th>\n",
       "      <th>Location</th>\n",
       "      <th>MinTemp</th>\n",
       "      <th>MaxTemp</th>\n",
       "      <th>Rainfall</th>\n",
       "      <th>Evaporation</th>\n",
       "      <th>Sunshine</th>\n",
       "      <th>WindGustDir</th>\n",
       "      <th>WindGustSpeed</th>\n",
       "      <th>WindDir9am</th>\n",
       "      <th>...</th>\n",
       "      <th>Humidity9am</th>\n",
       "      <th>Humidity3pm</th>\n",
       "      <th>Pressure9am</th>\n",
       "      <th>Pressure3pm</th>\n",
       "      <th>Cloud9am</th>\n",
       "      <th>Cloud3pm</th>\n",
       "      <th>Temp9am</th>\n",
       "      <th>Temp3pm</th>\n",
       "      <th>RainToday</th>\n",
       "      <th>RainTomorrow</th>\n",
       "    </tr>\n",
       "  </thead>\n",
       "  <tbody>\n",
       "    <tr>\n",
       "      <th>0</th>\n",
       "      <td>2008-12-01</td>\n",
       "      <td>Albury</td>\n",
       "      <td>13.4</td>\n",
       "      <td>22.9</td>\n",
       "      <td>0.6</td>\n",
       "      <td>NaN</td>\n",
       "      <td>NaN</td>\n",
       "      <td>W</td>\n",
       "      <td>44.0</td>\n",
       "      <td>W</td>\n",
       "      <td>...</td>\n",
       "      <td>71.0</td>\n",
       "      <td>22.0</td>\n",
       "      <td>1007.7</td>\n",
       "      <td>1007.1</td>\n",
       "      <td>8.0</td>\n",
       "      <td>NaN</td>\n",
       "      <td>16.9</td>\n",
       "      <td>21.8</td>\n",
       "      <td>No</td>\n",
       "      <td>No</td>\n",
       "    </tr>\n",
       "    <tr>\n",
       "      <th>1</th>\n",
       "      <td>2008-12-02</td>\n",
       "      <td>Albury</td>\n",
       "      <td>7.4</td>\n",
       "      <td>25.1</td>\n",
       "      <td>0.0</td>\n",
       "      <td>NaN</td>\n",
       "      <td>NaN</td>\n",
       "      <td>WNW</td>\n",
       "      <td>44.0</td>\n",
       "      <td>NNW</td>\n",
       "      <td>...</td>\n",
       "      <td>44.0</td>\n",
       "      <td>25.0</td>\n",
       "      <td>1010.6</td>\n",
       "      <td>1007.8</td>\n",
       "      <td>NaN</td>\n",
       "      <td>NaN</td>\n",
       "      <td>17.2</td>\n",
       "      <td>24.3</td>\n",
       "      <td>No</td>\n",
       "      <td>No</td>\n",
       "    </tr>\n",
       "    <tr>\n",
       "      <th>2</th>\n",
       "      <td>2008-12-03</td>\n",
       "      <td>Albury</td>\n",
       "      <td>12.9</td>\n",
       "      <td>25.7</td>\n",
       "      <td>0.0</td>\n",
       "      <td>NaN</td>\n",
       "      <td>NaN</td>\n",
       "      <td>WSW</td>\n",
       "      <td>46.0</td>\n",
       "      <td>W</td>\n",
       "      <td>...</td>\n",
       "      <td>38.0</td>\n",
       "      <td>30.0</td>\n",
       "      <td>1007.6</td>\n",
       "      <td>1008.7</td>\n",
       "      <td>NaN</td>\n",
       "      <td>2.0</td>\n",
       "      <td>21.0</td>\n",
       "      <td>23.2</td>\n",
       "      <td>No</td>\n",
       "      <td>No</td>\n",
       "    </tr>\n",
       "    <tr>\n",
       "      <th>3</th>\n",
       "      <td>2008-12-04</td>\n",
       "      <td>Albury</td>\n",
       "      <td>9.2</td>\n",
       "      <td>28.0</td>\n",
       "      <td>0.0</td>\n",
       "      <td>NaN</td>\n",
       "      <td>NaN</td>\n",
       "      <td>NE</td>\n",
       "      <td>24.0</td>\n",
       "      <td>SE</td>\n",
       "      <td>...</td>\n",
       "      <td>45.0</td>\n",
       "      <td>16.0</td>\n",
       "      <td>1017.6</td>\n",
       "      <td>1012.8</td>\n",
       "      <td>NaN</td>\n",
       "      <td>NaN</td>\n",
       "      <td>18.1</td>\n",
       "      <td>26.5</td>\n",
       "      <td>No</td>\n",
       "      <td>No</td>\n",
       "    </tr>\n",
       "    <tr>\n",
       "      <th>4</th>\n",
       "      <td>2008-12-05</td>\n",
       "      <td>Albury</td>\n",
       "      <td>17.5</td>\n",
       "      <td>32.3</td>\n",
       "      <td>1.0</td>\n",
       "      <td>NaN</td>\n",
       "      <td>NaN</td>\n",
       "      <td>W</td>\n",
       "      <td>41.0</td>\n",
       "      <td>ENE</td>\n",
       "      <td>...</td>\n",
       "      <td>82.0</td>\n",
       "      <td>33.0</td>\n",
       "      <td>1010.8</td>\n",
       "      <td>1006.0</td>\n",
       "      <td>7.0</td>\n",
       "      <td>8.0</td>\n",
       "      <td>17.8</td>\n",
       "      <td>29.7</td>\n",
       "      <td>No</td>\n",
       "      <td>No</td>\n",
       "    </tr>\n",
       "  </tbody>\n",
       "</table>\n",
       "<p>5 rows × 23 columns</p>\n",
       "</div>"
      ],
      "text/plain": [
       "         Date Location  MinTemp  MaxTemp  Rainfall  Evaporation  Sunshine  \\\n",
       "0  2008-12-01   Albury     13.4     22.9       0.6          NaN       NaN   \n",
       "1  2008-12-02   Albury      7.4     25.1       0.0          NaN       NaN   \n",
       "2  2008-12-03   Albury     12.9     25.7       0.0          NaN       NaN   \n",
       "3  2008-12-04   Albury      9.2     28.0       0.0          NaN       NaN   \n",
       "4  2008-12-05   Albury     17.5     32.3       1.0          NaN       NaN   \n",
       "\n",
       "  WindGustDir  WindGustSpeed WindDir9am  ... Humidity9am  Humidity3pm  \\\n",
       "0           W           44.0          W  ...        71.0         22.0   \n",
       "1         WNW           44.0        NNW  ...        44.0         25.0   \n",
       "2         WSW           46.0          W  ...        38.0         30.0   \n",
       "3          NE           24.0         SE  ...        45.0         16.0   \n",
       "4           W           41.0        ENE  ...        82.0         33.0   \n",
       "\n",
       "   Pressure9am  Pressure3pm  Cloud9am  Cloud3pm  Temp9am  Temp3pm  RainToday  \\\n",
       "0       1007.7       1007.1       8.0       NaN     16.9     21.8         No   \n",
       "1       1010.6       1007.8       NaN       NaN     17.2     24.3         No   \n",
       "2       1007.6       1008.7       NaN       2.0     21.0     23.2         No   \n",
       "3       1017.6       1012.8       NaN       NaN     18.1     26.5         No   \n",
       "4       1010.8       1006.0       7.0       8.0     17.8     29.7         No   \n",
       "\n",
       "   RainTomorrow  \n",
       "0            No  \n",
       "1            No  \n",
       "2            No  \n",
       "3            No  \n",
       "4            No  \n",
       "\n",
       "[5 rows x 23 columns]"
      ]
     },
     "execution_count": 22,
     "metadata": {},
     "output_type": "execute_result"
    }
   ],
   "source": [
    "df = pd.read_csv('weatherAUS.csv')\n",
    "df.head()"
   ]
  },
  {
   "cell_type": "code",
   "execution_count": 23,
   "metadata": {},
   "outputs": [
    {
     "name": "stdout",
     "output_type": "stream",
     "text": [
      "<class 'pandas.core.frame.DataFrame'>\n",
      "RangeIndex: 145460 entries, 0 to 145459\n",
      "Data columns (total 23 columns):\n",
      " #   Column         Non-Null Count   Dtype  \n",
      "---  ------         --------------   -----  \n",
      " 0   Date           145460 non-null  object \n",
      " 1   Location       145460 non-null  object \n",
      " 2   MinTemp        143975 non-null  float64\n",
      " 3   MaxTemp        144199 non-null  float64\n",
      " 4   Rainfall       142199 non-null  float64\n",
      " 5   Evaporation    82670 non-null   float64\n",
      " 6   Sunshine       75625 non-null   float64\n",
      " 7   WindGustDir    135134 non-null  object \n",
      " 8   WindGustSpeed  135197 non-null  float64\n",
      " 9   WindDir9am     134894 non-null  object \n",
      " 10  WindDir3pm     141232 non-null  object \n",
      " 11  WindSpeed9am   143693 non-null  float64\n",
      " 12  WindSpeed3pm   142398 non-null  float64\n",
      " 13  Humidity9am    142806 non-null  float64\n",
      " 14  Humidity3pm    140953 non-null  float64\n",
      " 15  Pressure9am    130395 non-null  float64\n",
      " 16  Pressure3pm    130432 non-null  float64\n",
      " 17  Cloud9am       89572 non-null   float64\n",
      " 18  Cloud3pm       86102 non-null   float64\n",
      " 19  Temp9am        143693 non-null  float64\n",
      " 20  Temp3pm        141851 non-null  float64\n",
      " 21  RainToday      142199 non-null  object \n",
      " 22  RainTomorrow   142193 non-null  object \n",
      "dtypes: float64(16), object(7)\n",
      "memory usage: 25.5+ MB\n"
     ]
    }
   ],
   "source": [
    "#df.describe\n",
    "df.info()"
   ]
  },
  {
   "cell_type": "code",
   "execution_count": 24,
   "metadata": {},
   "outputs": [
    {
     "name": "stdout",
     "output_type": "stream",
     "text": [
      "        MinTemp  MaxTemp  Rainfall  Evaporation  Sunshine  WindGustSpeed  \\\n",
      "0          13.4     22.9       0.6          0.0       0.0           44.0   \n",
      "1           7.4     25.1       0.0          0.0       0.0           44.0   \n",
      "2          12.9     25.7       0.0          0.0       0.0           46.0   \n",
      "3           9.2     28.0       0.0          0.0       0.0           24.0   \n",
      "4          17.5     32.3       1.0          0.0       0.0           41.0   \n",
      "...         ...      ...       ...          ...       ...            ...   \n",
      "145455      2.8     23.4       0.0          0.0       0.0           31.0   \n",
      "145456      3.6     25.3       0.0          0.0       0.0           22.0   \n",
      "145457      5.4     26.9       0.0          0.0       0.0           37.0   \n",
      "145458      7.8     27.0       0.0          0.0       0.0           28.0   \n",
      "145459     14.9      0.0       0.0          0.0       0.0            0.0   \n",
      "\n",
      "        WindSpeed9am  WindSpeed3pm  Humidity9am  Humidity3pm  Pressure9am  \\\n",
      "0               20.0          24.0         71.0         22.0       1007.7   \n",
      "1                4.0          22.0         44.0         25.0       1010.6   \n",
      "2               19.0          26.0         38.0         30.0       1007.6   \n",
      "3               11.0           9.0         45.0         16.0       1017.6   \n",
      "4                7.0          20.0         82.0         33.0       1010.8   \n",
      "...              ...           ...          ...          ...          ...   \n",
      "145455          13.0          11.0         51.0         24.0       1024.6   \n",
      "145456          13.0           9.0         56.0         21.0       1023.5   \n",
      "145457           9.0           9.0         53.0         24.0       1021.0   \n",
      "145458          13.0           7.0         51.0         24.0       1019.4   \n",
      "145459          17.0          17.0         62.0         36.0       1020.2   \n",
      "\n",
      "        Pressure3pm  Cloud9am  Cloud3pm  Temp9am  Temp3pm  RainToday  \\\n",
      "0            1007.1       8.0       0.0     16.9     21.8        0.0   \n",
      "1            1007.8       0.0       0.0     17.2     24.3        0.0   \n",
      "2            1008.7       0.0       2.0     21.0     23.2        0.0   \n",
      "3            1012.8       0.0       0.0     18.1     26.5        0.0   \n",
      "4            1006.0       7.0       8.0     17.8     29.7        0.0   \n",
      "...             ...       ...       ...      ...      ...        ...   \n",
      "145455       1020.3       0.0       0.0     10.1     22.4        0.0   \n",
      "145456       1019.1       0.0       0.0     10.9     24.5        0.0   \n",
      "145457       1016.8       0.0       0.0     12.5     26.1        0.0   \n",
      "145458       1016.5       3.0       2.0     15.1     26.0        0.0   \n",
      "145459       1017.9       8.0       8.0     15.0     20.9        0.0   \n",
      "\n",
      "        RainTomorrow  \n",
      "0                0.0  \n",
      "1                0.0  \n",
      "2                0.0  \n",
      "3                0.0  \n",
      "4                0.0  \n",
      "...              ...  \n",
      "145455           0.0  \n",
      "145456           0.0  \n",
      "145457           0.0  \n",
      "145458           0.0  \n",
      "145459           0.0  \n",
      "\n",
      "[145460 rows x 18 columns]\n"
     ]
    }
   ],
   "source": [
    "df.replace('Yes', 1, inplace=True)\n",
    "df.replace('No', 0, inplace=True)\n",
    "df.fillna(0, inplace=True)\n",
    "df.drop(df.select_dtypes(['object']).columns,  axis=1, inplace=True)\n",
    "print(df)"
   ]
  },
  {
   "cell_type": "code",
   "execution_count": 25,
   "metadata": {},
   "outputs": [
    {
     "name": "stdout",
     "output_type": "stream",
     "text": [
      "<class 'pandas.core.frame.DataFrame'>\n",
      "RangeIndex: 145460 entries, 0 to 145459\n",
      "Data columns (total 18 columns):\n",
      " #   Column         Non-Null Count   Dtype  \n",
      "---  ------         --------------   -----  \n",
      " 0   MinTemp        145460 non-null  float64\n",
      " 1   MaxTemp        145460 non-null  float64\n",
      " 2   Rainfall       145460 non-null  float64\n",
      " 3   Evaporation    145460 non-null  float64\n",
      " 4   Sunshine       145460 non-null  float64\n",
      " 5   WindGustSpeed  145460 non-null  float64\n",
      " 6   WindSpeed9am   145460 non-null  float64\n",
      " 7   WindSpeed3pm   145460 non-null  float64\n",
      " 8   Humidity9am    145460 non-null  float64\n",
      " 9   Humidity3pm    145460 non-null  float64\n",
      " 10  Pressure9am    145460 non-null  float64\n",
      " 11  Pressure3pm    145460 non-null  float64\n",
      " 12  Cloud9am       145460 non-null  float64\n",
      " 13  Cloud3pm       145460 non-null  float64\n",
      " 14  Temp9am        145460 non-null  float64\n",
      " 15  Temp3pm        145460 non-null  float64\n",
      " 16  RainToday      145460 non-null  float64\n",
      " 17  RainTomorrow   145460 non-null  float64\n",
      "dtypes: float64(18)\n",
      "memory usage: 20.0 MB\n"
     ]
    }
   ],
   "source": [
    "df.info()"
   ]
  },
  {
   "cell_type": "code",
   "execution_count": 26,
   "metadata": {},
   "outputs": [
    {
     "name": "stdout",
     "output_type": "stream",
     "text": [
      "              0         1         2         3         4         5         6   \\\n",
      "0       0.205232 -0.016205 -0.203581 -0.746516 -0.845389  0.407796  0.681283   \n",
      "1      -0.720312  0.280780 -0.275097 -0.746516 -0.845389  0.407796 -1.097764   \n",
      "2       0.128104  0.361776 -0.275097 -0.746516 -0.845389  0.527921  0.570092   \n",
      "3      -0.442649  0.672260 -0.275097 -0.746516 -0.845389 -0.793463 -0.319431   \n",
      "4       0.837688  1.252731 -0.155903 -0.746516 -0.845389  0.227607 -0.764193   \n",
      "...          ...       ...       ...       ...       ...       ...       ...   \n",
      "145455 -1.429896  0.051292 -0.275097 -0.746516 -0.845389 -0.373022 -0.097050   \n",
      "145456 -1.306490  0.307779 -0.275097 -0.746516 -0.845389 -0.913589 -0.097050   \n",
      "145457 -1.028827  0.523768 -0.275097 -0.746516 -0.845389 -0.012645 -0.541812   \n",
      "145458 -0.658609  0.537267 -0.275097 -0.746516 -0.845389 -0.553211 -0.097050   \n",
      "145459  0.436619 -3.107548 -0.275097 -0.746516 -0.845389 -2.234973  0.347711   \n",
      "\n",
      "              7         8         9         10        11        12        13  \\\n",
      "0       0.628382  0.160852 -1.251090  0.307741  0.312970  1.679577 -0.875693   \n",
      "1       0.409059 -1.125609 -1.116768  0.317092  0.315235 -0.874270 -0.875693   \n",
      "2       0.847705 -1.411490 -0.892897  0.307419  0.318147 -0.874270 -0.219635   \n",
      "3      -1.016540 -1.077963 -1.519736  0.339661  0.331412 -0.874270 -0.875693   \n",
      "4       0.189736  0.684967 -0.758574  0.317736  0.309411  1.360346  1.748540   \n",
      "...          ...       ...       ...       ...       ...       ...       ...   \n",
      "145455 -0.797217 -0.792082 -1.161542  0.362231  0.355677 -0.874270 -0.875693   \n",
      "145456 -1.016540 -0.553849 -1.295865  0.358684  0.351795 -0.874270 -0.875693   \n",
      "145457 -1.016540 -0.696789 -1.161542  0.350624  0.344353 -0.874270 -0.875693   \n",
      "145458 -1.235863 -0.792082 -1.161542  0.345465  0.343383  0.083422 -0.219635   \n",
      "145459 -0.139248 -0.267968 -0.624251  0.348044  0.347912  1.679577  1.748540   \n",
      "\n",
      "              14        15        16        17  \n",
      "0       0.017246  0.085732 -0.529795 -0.529764  \n",
      "1       0.061940  0.413155 -0.529795 -0.529764  \n",
      "2       0.628056  0.269089 -0.529795 -0.529764  \n",
      "3       0.196020  0.701288 -0.529795 -0.529764  \n",
      "4       0.151327  1.120390 -0.529795 -0.529764  \n",
      "...          ...       ...       ...       ...  \n",
      "145455 -0.995803  0.164314 -0.529795 -0.529764  \n",
      "145456 -0.876621  0.439349 -0.529795 -0.529764  \n",
      "145457 -0.638256  0.648900 -0.529795 -0.529764  \n",
      "145458 -0.250914  0.635804 -0.529795 -0.529764  \n",
      "145459 -0.265812 -0.032141 -0.529795 -0.529764  \n",
      "\n",
      "[145460 rows x 18 columns]\n"
     ]
    }
   ],
   "source": [
    "scaler = StandardScaler()\n",
    "data= scaler.fit_transform(df)\n",
    "print (pd.DataFrame(data))"
   ]
  },
  {
   "cell_type": "code",
   "execution_count": 4,
   "metadata": {},
   "outputs": [],
   "source": [
    "def kmeans(X, k, max_iters=50):\n",
    "    centroids = X[np.random.choice(len(X), k, replace=False)]\n",
    "    \n",
    "    for _ in range(max_iters):\n",
    "        labels = np.argmin(np.linalg.norm(X[:, np.newaxis] - centroids, axis=2), axis=1)\n",
    "        centroids = np.array([X[labels == j].mean(axis=0) for j in range(k)])\n",
    "    \n",
    "    return centroids, labels"
   ]
  },
  {
   "cell_type": "code",
   "execution_count": 5,
   "metadata": {},
   "outputs": [],
   "source": [
    "def calculate_ssd(X, centroids, labels):\n",
    "    ssd = 0\n",
    "    for i in range(len(centroids)):\n",
    "        ssd += np.sum((X[labels == i] - centroids[i])**2)\n",
    "    return ssd"
   ]
  },
  {
   "cell_type": "code",
   "execution_count": 6,
   "metadata": {},
   "outputs": [],
   "source": [
    "def find_optimal_k(X, max_k=10):\n",
    "    ssd_values = []\n",
    "    for k in range(1, max_k + 1):\n",
    "        centroids, labels = kmeans(X, k)\n",
    "        ssd = calculate_ssd(X, centroids, labels)\n",
    "        ssd_values.append(ssd)\n",
    "    \n",
    "    return ssd_values"
   ]
  },
  {
   "cell_type": "code",
   "execution_count": 7,
   "metadata": {},
   "outputs": [],
   "source": [
    "def plot_elbow(ssd_values):\n",
    "    plt.plot(range(1, len(ssd_values) + 1), ssd_values, marker='o')\n",
    "    plt.title('Elbow Method')\n",
    "    plt.xlabel('Number of Clusters (K)')\n",
    "    plt.ylabel('Sum of Squared Distances (SSD)')\n",
    "    plt.show()"
   ]
  },
  {
   "cell_type": "code",
   "execution_count": 8,
   "metadata": {
    "scrolled": true
   },
   "outputs": [
    {
     "data": {
      "image/png": "[encoded data removed]",
      "text/plain": [
       "<Figure size 432x288 with 1 Axes>"
      ]
     },
     "metadata": {
      "needs_background": "light"
     },
     "output_type": "display_data"
    }
   ],
   "source": [
    "max_clusters = 10\n",
    "ssd_values = find_optimal_k(data, max_k=max_clusters)\n",
    "plot_elbow(ssd_values)\n",
    "optimal_k = 4"
   ]
  },
  {
   "cell_type": "code",
   "execution_count": 9,
   "metadata": {},
   "outputs": [],
   "source": [
    "centroids, labels = kmeans(data, optimal_k)"
   ]
  },
  {
   "cell_type": "code",
   "execution_count": 10,
   "metadata": {},
   "outputs": [],
   "source": [
    "def plot_clusters(X, labels):\n",
    "    pca = PCA(n_components=2)\n",
    "    X_pca = pca.fit_transform(X)\n",
    "    \n",
    "    plt.scatter(X_pca[:, 0], X_pca[:, 1], c=labels, cmap='turbo')\n",
    "    plt.title('K-means Clustering (PCA)')\n",
    "    plt.xlabel('Principal Component 1')\n",
    "    plt.ylabel('Principal Component 2')\n",
    "    plt.show()"
   ]
  },
  {
   "cell_type": "code",
   "execution_count": 28,
   "metadata": {},
   "outputs": [
    {
     "data": {
      "image/png": "[encoded data removed]",
      "text/plain": [
       "<Figure size 432x288 with 1 Axes>"
      ]
     },
     "metadata": {
      "needs_background": "light"
     },
     "output_type": "display_data"
    }
   ],
   "source": [
    "plot_clusters(data, labels)"
   ]
  },
  {
   "cell_type": "code",
   "execution_count": null,
   "metadata": {},
   "outputs": [],
   "source": []
  }
 ],
 "metadata": {
  "kernelspec": {
   "display_name": "Python 3",
   "language": "python",
   "name": "python3"
  },
  "language_info": {
   "codemirror_mode": {
    "name": "ipython",
    "version": 3
   },
   "file_extension": ".py",
   "mimetype": "text/x-python",
   "name": "python",
   "nbconvert_exporter": "python",
   "pygments_lexer": "ipython3",
   "version": "3.7.3"
  }
 },
 "nbformat": 4,
 "nbformat_minor": 5
}
